{
 "cells": [
  {
   "cell_type": "code",
   "execution_count": 1,
   "metadata": {},
   "outputs": [],
   "source": [
    "import pandas as pd\n",
    "import numpy as np\n",
    "import os"
   ]
  },
  {
   "cell_type": "code",
   "execution_count": 2,
   "metadata": {},
   "outputs": [],
   "source": [
    "hist = pd.read_csv('/opt/ml/output_hist.csv')\n",
    "xgb = pd.read_csv('/opt/ml/output_xgb.csv')\n",
    "gbm = pd.read_csv('/opt/ml/output_gbm.csv')\n",
    "saint = pd.read_csv('/opt/ml/output_saint.csv')\n",
    "saint_adamw = pd.read_csv('/opt/ml/output_saint_adamw.csv')\n",
    "nmf = pd.read_csv('/opt/ml/output_nmf.csv')\n",
    "gru = pd.read_csv('/opt/ml/output_gru.csv')\n",
    "cat = pd.read_csv('/opt/ml/output_cat.csv')\n",
    "cl4kt = pd.read_csv('/opt/ml/output_cl4kt.csv')"
   ]
  },
  {
   "cell_type": "code",
   "execution_count": 3,
   "metadata": {},
   "outputs": [],
   "source": [
    "ensemble_list = list()\n",
    "\n",
    "for i, hist_p, xgb_p, gbm_p, saint_p, saint_adamw_p, nmf_p, gru_p, cat_p, cl4kt_p in zip(range(len(hist)), hist['prediction'], xgb['prediction'], gbm['prediction'], saint['prediction'], saint_adamw['prediction'], nmf['prediction'], gru['prediction'], cat['prediction'], cl4kt['prediction']):\n",
    "    ensemble_list.append([i, (saint_p+nmf_p)/2])\n"
   ]
  },
  {
   "cell_type": "code",
   "execution_count": 41,
   "metadata": {},
   "outputs": [],
   "source": [
    "output_dir = '/opt/ml/input/level2-dkt-level2-recsys-06/dkt/output'\n",
    "\n",
    "pd.DataFrame(ensemble_list, columns=['id','prediction']).to_csv(os.path.join(output_dir, 'ensemble.csv'), index=False)"
   ]
  },
  {
   "cell_type": "code",
   "execution_count": null,
   "metadata": {},
   "outputs": [],
   "source": []
  }
 ],
 "metadata": {
  "interpreter": {
   "hash": "d4d1e4263499bec80672ea0156c357c1ee493ec2b1c70f0acce89fc37c4a6abe"
  },
  "kernelspec": {
   "display_name": "Python 3.8.5 ('base')",
   "language": "python",
   "name": "python3"
  },
  "language_info": {
   "codemirror_mode": {
    "name": "ipython",
    "version": 3
   },
   "file_extension": ".py",
   "mimetype": "text/x-python",
   "name": "python",
   "nbconvert_exporter": "python",
   "pygments_lexer": "ipython3",
   "version": "3.8.5"
  },
  "orig_nbformat": 4
 },
 "nbformat": 4,
 "nbformat_minor": 2
}
