{
 "cells": [
  {
   "cell_type": "code",
   "execution_count": 1,
   "metadata": {},
   "outputs": [],
   "source": [
    "from argparse import ArgumentParser\n",
    "import numpy as np\n",
    "import pandas as pd\n",
    "from scipy.sparse import csr_matrix\n",
    "from scipy import sparse\n",
    "import os\n",
    "import pickle\n",
    "import time"
   ]
  },
  {
   "cell_type": "code",
   "execution_count": 2,
   "metadata": {},
   "outputs": [],
   "source": [
    "def prepare_test_iscream(\n",
    "    min_user_inter_num: int\n",
    "):\n",
    "    data_path = \"/opt/ml/input/data\"\n",
    "    df1 = pd.read_csv(os.path.join(data_path, \"train_data.csv\"), sep=\",\")\n",
    "    df2 = pd.read_csv(os.path.join(data_path, \"test_data.csv\"), sep=\",\")\n",
    "    df = pd.concat([df1, df2])\n",
    "\n",
    "    df = df.rename(\n",
    "        columns={\"userID\": \"user_id\", \"assessmentItemID\": \"item_id\", \"KnowledgeTag\": \"skill_id\",\n",
    "        \"answerCode\": \"correct\"}\n",
    "        )\n",
    "    df[\"timestamp\"] = pd.to_datetime(df[\"Timestamp\"])\n",
    "    df[\"timestamp\"] = df[\"timestamp\"] - df[\"timestamp\"].min()\n",
    "    df[\"timestamp\"] = (\n",
    "        df[\"timestamp\"].apply(lambda x: x.total_seconds()).astype(np.int64)\n",
    "    )\n",
    "\n",
    "    # Remove continuous outcomes\n",
    "    df = df.replace(-1, -2)\n",
    "    df = df[df[\"correct\"].isin([0, 1, -2])]\n",
    "    df[\"correct\"] = df[\"correct\"].astype(np.int32)\n",
    "\n",
    "    # Filter too short sequences\n",
    "    df = df.groupby(\"user_id\").filter(lambda x: len(x) >= min_user_inter_num)\n",
    "\n",
    "    df[\"user_id\"] = np.unique(df[\"user_id\"], return_inverse=True)[1]\n",
    "    df[\"item_id\"] = np.unique(df[\"item_id\"], return_inverse=True)[1]\n",
    "    df[\"skill_id\"] = np.unique(df[\"skill_id\"].astype(str), return_inverse=True)[1]\n",
    "    # with open(os.path.join(data_path, \"skill_id_name\"), \"wb\") as f:\n",
    "    #     pickle.dump(dict(zip(df[\"skill_id\"], df[\"skill_name\"])), f)\n",
    "\n",
    "    # Build Q-matrix\n",
    "    Q_mat = np.zeros((len(df[\"item_id\"].unique()), len(df[\"skill_id\"].unique())))\n",
    "    for item_id, skill_id in df[[\"item_id\", \"skill_id\"]].values:\n",
    "        Q_mat[item_id, skill_id] = 1\n",
    "\n",
    "    # Remove row duplicates due to multiple skills for one item\n",
    "    df = df.drop_duplicates([\"user_id\", \"item_id\"], keep='last')\n",
    "\n",
    "    print(\"# Users: {}\".format(df[\"user_id\"].nunique()))\n",
    "    print(\"# Skills: {}\".format(df[\"skill_id\"].nunique()))\n",
    "    print(\"# Items: {}\".format(df[\"item_id\"].nunique()))\n",
    "    print(\"# Interactions: {}\".format(len(df)))\n",
    "\n",
    "    # Get unique skill id from combination of all skill ids\n",
    "    unique_skill_ids = np.unique(Q_mat, axis=0, return_inverse=True)[1]\n",
    "    df[\"skill_id\"] = unique_skill_ids[df[\"item_id\"]]\n",
    "\n",
    "    print(\"# Preprocessed Skills: {}\".format(df[\"skill_id\"].nunique()))\n",
    "    # Sort data temporally\n",
    "    df.sort_values(by=\"timestamp\", inplace=True)\n",
    "\n",
    "    # Sort data by users, preserving temporal order for each user\n",
    "    df = pd.concat([u_df for _, u_df in df.groupby(\"user_id\")])\n",
    "    df.to_csv(os.path.join(data_path, \"iscream/original_df.csv\"), sep=\"\\t\", index=False)\n",
    "\n",
    "    df = df[[\"user_id\", \"item_id\", \"timestamp\", \"correct\", \"skill_id\"]]\n",
    "    df.reset_index(inplace=True, drop=True)\n",
    "\n",
    "    test_idx = df['user_id'][df[\"correct\"] == -2]\n",
    "    train_df = df.loc[~df[\"user_id\"].isin(test_idx)]\n",
    "    test_df = df.loc[df[\"user_id\"].isin(test_idx)]\n",
    "    train_df.reset_index(inplace=True, drop=True)\n",
    "    test_df.reset_index(inplace=True, drop=True)\n",
    "\n",
    "    # Save data\n",
    "    with open(os.path.join(data_path, \"iscream/question_skill_rel.pkl\"), \"wb\") as f:\n",
    "        pickle.dump(csr_matrix(Q_mat), f)\n",
    "\n",
    "    sparse.save_npz(os.path.join(data_path, \"iscream/q_mat.npz\"), csr_matrix(Q_mat))\n",
    "    train_df.to_csv(os.path.join(data_path, \"iscream/preprocessed_df.csv\"), sep=\"\\t\", index=False)\n",
    "    test_df.to_csv(os.path.join(data_path, \"iscream/preprocessed_test_df.csv\"), sep=\"\\t\", index=False)"
   ]
  },
  {
   "cell_type": "code",
   "execution_count": 3,
   "metadata": {},
   "outputs": [
    {
     "name": "stdout",
     "output_type": "stream",
     "text": [
      "# Users: 7441\n",
      "# Skills: 912\n",
      "# Items: 9454\n",
      "# Interactions: 2476697\n",
      "# Preprocessed Skills: 912\n"
     ]
    }
   ],
   "source": [
    "prepare_test_iscream(10)"
   ]
  },
  {
   "cell_type": "code",
   "execution_count": null,
   "metadata": {},
   "outputs": [],
   "source": []
  }
 ],
 "metadata": {
  "interpreter": {
   "hash": "d4d1e4263499bec80672ea0156c357c1ee493ec2b1c70f0acce89fc37c4a6abe"
  },
  "kernelspec": {
   "display_name": "Python 3.8.5 ('base': conda)",
   "language": "python",
   "name": "python3"
  },
  "language_info": {
   "codemirror_mode": {
    "name": "ipython",
    "version": 3
   },
   "file_extension": ".py",
   "mimetype": "text/x-python",
   "name": "python",
   "nbconvert_exporter": "python",
   "pygments_lexer": "ipython3",
   "version": "3.8.5"
  },
  "orig_nbformat": 4
 },
 "nbformat": 4,
 "nbformat_minor": 2
}
