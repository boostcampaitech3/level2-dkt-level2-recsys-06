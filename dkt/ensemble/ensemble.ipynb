{
 "cells": [
  {
   "cell_type": "code",
   "execution_count": 2,
   "metadata": {},
   "outputs": [],
   "source": [
    "import pandas as pd\n",
    "import numpy as np\n",
    "import os"
   ]
  },
  {
   "cell_type": "code",
   "execution_count": 3,
   "metadata": {},
   "outputs": [],
   "source": [
    "hist = pd.read_csv('/opt/ml/output_hist.csv')\n",
    "xgb = pd.read_csv('/opt/ml/output_xgb.csv')\n",
    "gbm = pd.read_csv('/opt/ml/output_gbm.csv')\n",
    "saint = pd.read_csv('/opt/ml/output_saint.csv')\n",
    "saint_adamw = pd.read_csv('/opt/ml/output_saint_adamw.csv')\n",
    "nmf = pd.read_csv('/opt/ml/output_nmf.csv')"
   ]
  },
  {
   "cell_type": "code",
   "execution_count": 9,
   "metadata": {},
   "outputs": [],
   "source": [
    "ensemble_list = list()\n",
    "\n",
    "for i, hist_p, xgb_p, gbm_p, saint_p, saint_adamw_p, nmf_p in zip(range(len(hist)), hist['prediction'], xgb['prediction'], gbm['prediction'], saint['prediction'], saint_adamw['prediction'], nmf['prediction']):\n",
    "    ensemble_list.append([i, (hist_p+saint_p+nmf_p)/3])\n"
   ]
  },
  {
   "cell_type": "code",
   "execution_count": null,
   "metadata": {},
   "outputs": [],
   "source": [
    "ensemble_list"
   ]
  },
  {
   "cell_type": "code",
   "execution_count": 70,
   "metadata": {},
   "outputs": [
    {
     "data": {
      "text/plain": [
       "0.5255376344086021"
      ]
     },
     "execution_count": 70,
     "metadata": {},
     "output_type": "execute_result"
    }
   ],
   "source": [
    "ensemble_np = np.array(ensemble_list).T[1]\n",
    "len(np.where(ensemble_np>=0.5)[0])/744"
   ]
  },
  {
   "cell_type": "code",
   "execution_count": 69,
   "metadata": {},
   "outputs": [
    {
     "data": {
      "text/plain": [
       "0.48655913978494625"
      ]
     },
     "execution_count": 69,
     "metadata": {},
     "output_type": "execute_result"
    }
   ],
   "source": [
    "hist_np = np.array(hist).T[1]\n",
    "len(np.where(hist_np>=0.5)[0])/744\n"
   ]
  },
  {
   "cell_type": "code",
   "execution_count": 71,
   "metadata": {},
   "outputs": [
    {
     "data": {
      "text/plain": [
       "0.5336021505376344"
      ]
     },
     "execution_count": 71,
     "metadata": {},
     "output_type": "execute_result"
    }
   ],
   "source": [
    "saint_np = np.array(saint).T[1]\n",
    "len(np.where(saint_np>=0.5)[0])/744"
   ]
  },
  {
   "cell_type": "code",
   "execution_count": 76,
   "metadata": {},
   "outputs": [
    {
     "data": {
      "text/plain": [
       "0.5174731182795699"
      ]
     },
     "execution_count": 76,
     "metadata": {},
     "output_type": "execute_result"
    }
   ],
   "source": [
    "xgb_np = np.array(xgb).T[1]*0.9\n",
    "len(np.where(xgb_np>=0.5)[0])/744"
   ]
  },
  {
   "cell_type": "code",
   "execution_count": 73,
   "metadata": {},
   "outputs": [
    {
     "data": {
      "text/plain": [
       "0.678763440860215"
      ]
     },
     "execution_count": 73,
     "metadata": {},
     "output_type": "execute_result"
    }
   ],
   "source": [
    "gbm_np = np.array(gbm).T[1]\n",
    "len(np.where(gbm_np>=0.5)[0])/744"
   ]
  },
  {
   "cell_type": "code",
   "execution_count": 79,
   "metadata": {},
   "outputs": [
    {
     "data": {
      "text/plain": [
       "0.5604838709677419"
      ]
     },
     "execution_count": 79,
     "metadata": {},
     "output_type": "execute_result"
    }
   ],
   "source": [
    "nmf_np = np.array(nmf).T[1]\n",
    "len(np.where(nmf_np>=0.5)[0])/744"
   ]
  },
  {
   "cell_type": "code",
   "execution_count": 8,
   "metadata": {},
   "outputs": [],
   "source": [
    "output_dir = '/opt/ml/input/level2-dkt-level2-recsys-06/dkt/output'\n",
    "\n",
    "pd.DataFrame(ensemble_list, columns=['id','prediction']).to_csv(os.path.join(output_dir, 'ensemble.csv'), index=False)"
   ]
  },
  {
   "cell_type": "code",
   "execution_count": null,
   "metadata": {},
   "outputs": [],
   "source": []
  }
 ],
 "metadata": {
  "interpreter": {
   "hash": "d4d1e4263499bec80672ea0156c357c1ee493ec2b1c70f0acce89fc37c4a6abe"
  },
  "kernelspec": {
   "display_name": "Python 3.8.5 ('base')",
   "language": "python",
   "name": "python3"
  },
  "language_info": {
   "codemirror_mode": {
    "name": "ipython",
    "version": 3
   },
   "file_extension": ".py",
   "mimetype": "text/x-python",
   "name": "python",
   "nbconvert_exporter": "python",
   "pygments_lexer": "ipython3",
   "version": "3.8.5"
  },
  "orig_nbformat": 4
 },
 "nbformat": 4,
 "nbformat_minor": 2
}
