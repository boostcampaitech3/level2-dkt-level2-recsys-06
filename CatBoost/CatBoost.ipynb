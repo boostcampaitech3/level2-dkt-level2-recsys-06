{
  "cells": [
    {
      "cell_type": "markdown",
      "metadata": {
        "id": "yt7sDAqHhfQp"
      },
      "source": [
        "# CatBoost을 활용한 베이스라인"
      ]
    },
    {
      "cell_type": "code",
      "execution_count": 103,
      "metadata": {
        "ExecuteTime": {
          "end_time": "2021-05-24T09:49:29.375544Z",
          "start_time": "2021-05-24T09:49:28.999092Z"
        },
        "id": "Uq_TJqbdhfQu"
      },
      "outputs": [],
      "source": [
        "import pandas as pd\n",
        "import os\n",
        "import random\n",
        "import numpy as np"
      ]
    },
    {
      "cell_type": "markdown",
      "metadata": {
        "id": "QZlm5HSmhfQv"
      },
      "source": [
        "## 1. 데이터 로딩"
      ]
    },
    {
      "cell_type": "code",
      "execution_count": 104,
      "metadata": {
        "ExecuteTime": {
          "end_time": "2021-05-24T09:49:29.678737Z",
          "start_time": "2021-05-24T09:49:29.376581Z"
        },
        "id": "s6qgJ8MLhfQw"
      },
      "outputs": [],
      "source": [
        "data_dir = '/opt/ml/input/data' # 경로는 상황에 맞춰서 수정해주세요!\n",
        "csv_file_path = os.path.join(data_dir, 'train_data.csv') # 데이터는 대회홈페이지에서 받아주세요 :)"
      ]
    },
    {
      "cell_type": "code",
      "execution_count": 105,
      "metadata": {},
      "outputs": [
        {
          "data": {
            "text/html": [
              "<div>\n",
              "<style scoped>\n",
              "    .dataframe tbody tr th:only-of-type {\n",
              "        vertical-align: middle;\n",
              "    }\n",
              "\n",
              "    .dataframe tbody tr th {\n",
              "        vertical-align: top;\n",
              "    }\n",
              "\n",
              "    .dataframe thead th {\n",
              "        text-align: right;\n",
              "    }\n",
              "</style>\n",
              "<table border=\"1\" class=\"dataframe\">\n",
              "  <thead>\n",
              "    <tr style=\"text-align: right;\">\n",
              "      <th></th>\n",
              "      <th>userID</th>\n",
              "      <th>assessmentItemID</th>\n",
              "      <th>testId</th>\n",
              "      <th>answerCode</th>\n",
              "      <th>Timestamp</th>\n",
              "      <th>KnowledgeTag</th>\n",
              "    </tr>\n",
              "  </thead>\n",
              "  <tbody>\n",
              "    <tr>\n",
              "      <th>0</th>\n",
              "      <td>0</td>\n",
              "      <td>A060001001</td>\n",
              "      <td>A060000001</td>\n",
              "      <td>1</td>\n",
              "      <td>2020-03-24 00:17:11</td>\n",
              "      <td>7224</td>\n",
              "    </tr>\n",
              "    <tr>\n",
              "      <th>1</th>\n",
              "      <td>0</td>\n",
              "      <td>A060001002</td>\n",
              "      <td>A060000001</td>\n",
              "      <td>1</td>\n",
              "      <td>2020-03-24 00:17:14</td>\n",
              "      <td>7225</td>\n",
              "    </tr>\n",
              "    <tr>\n",
              "      <th>2</th>\n",
              "      <td>0</td>\n",
              "      <td>A060001003</td>\n",
              "      <td>A060000001</td>\n",
              "      <td>1</td>\n",
              "      <td>2020-03-24 00:17:22</td>\n",
              "      <td>7225</td>\n",
              "    </tr>\n",
              "    <tr>\n",
              "      <th>3</th>\n",
              "      <td>0</td>\n",
              "      <td>A060001004</td>\n",
              "      <td>A060000001</td>\n",
              "      <td>1</td>\n",
              "      <td>2020-03-24 00:17:29</td>\n",
              "      <td>7225</td>\n",
              "    </tr>\n",
              "    <tr>\n",
              "      <th>4</th>\n",
              "      <td>0</td>\n",
              "      <td>A060001005</td>\n",
              "      <td>A060000001</td>\n",
              "      <td>1</td>\n",
              "      <td>2020-03-24 00:17:36</td>\n",
              "      <td>7225</td>\n",
              "    </tr>\n",
              "    <tr>\n",
              "      <th>...</th>\n",
              "      <td>...</td>\n",
              "      <td>...</td>\n",
              "      <td>...</td>\n",
              "      <td>...</td>\n",
              "      <td>...</td>\n",
              "      <td>...</td>\n",
              "    </tr>\n",
              "    <tr>\n",
              "      <th>2266581</th>\n",
              "      <td>7441</td>\n",
              "      <td>A030071005</td>\n",
              "      <td>A030000071</td>\n",
              "      <td>0</td>\n",
              "      <td>2020-06-05 06:50:21</td>\n",
              "      <td>438</td>\n",
              "    </tr>\n",
              "    <tr>\n",
              "      <th>2266582</th>\n",
              "      <td>7441</td>\n",
              "      <td>A040165001</td>\n",
              "      <td>A040000165</td>\n",
              "      <td>1</td>\n",
              "      <td>2020-08-21 01:06:39</td>\n",
              "      <td>8836</td>\n",
              "    </tr>\n",
              "    <tr>\n",
              "      <th>2266583</th>\n",
              "      <td>7441</td>\n",
              "      <td>A040165002</td>\n",
              "      <td>A040000165</td>\n",
              "      <td>1</td>\n",
              "      <td>2020-08-21 01:06:50</td>\n",
              "      <td>8836</td>\n",
              "    </tr>\n",
              "    <tr>\n",
              "      <th>2266584</th>\n",
              "      <td>7441</td>\n",
              "      <td>A040165003</td>\n",
              "      <td>A040000165</td>\n",
              "      <td>1</td>\n",
              "      <td>2020-08-21 01:07:36</td>\n",
              "      <td>8836</td>\n",
              "    </tr>\n",
              "    <tr>\n",
              "      <th>2266585</th>\n",
              "      <td>7441</td>\n",
              "      <td>A040165004</td>\n",
              "      <td>A040000165</td>\n",
              "      <td>1</td>\n",
              "      <td>2020-08-21 01:08:49</td>\n",
              "      <td>8836</td>\n",
              "    </tr>\n",
              "  </tbody>\n",
              "</table>\n",
              "<p>2266586 rows × 6 columns</p>\n",
              "</div>"
            ],
            "text/plain": [
              "         userID assessmentItemID      testId  answerCode            Timestamp  \\\n",
              "0             0       A060001001  A060000001           1  2020-03-24 00:17:11   \n",
              "1             0       A060001002  A060000001           1  2020-03-24 00:17:14   \n",
              "2             0       A060001003  A060000001           1  2020-03-24 00:17:22   \n",
              "3             0       A060001004  A060000001           1  2020-03-24 00:17:29   \n",
              "4             0       A060001005  A060000001           1  2020-03-24 00:17:36   \n",
              "...         ...              ...         ...         ...                  ...   \n",
              "2266581    7441       A030071005  A030000071           0  2020-06-05 06:50:21   \n",
              "2266582    7441       A040165001  A040000165           1  2020-08-21 01:06:39   \n",
              "2266583    7441       A040165002  A040000165           1  2020-08-21 01:06:50   \n",
              "2266584    7441       A040165003  A040000165           1  2020-08-21 01:07:36   \n",
              "2266585    7441       A040165004  A040000165           1  2020-08-21 01:08:49   \n",
              "\n",
              "         KnowledgeTag  \n",
              "0                7224  \n",
              "1                7225  \n",
              "2                7225  \n",
              "3                7225  \n",
              "4                7225  \n",
              "...               ...  \n",
              "2266581           438  \n",
              "2266582          8836  \n",
              "2266583          8836  \n",
              "2266584          8836  \n",
              "2266585          8836  \n",
              "\n",
              "[2266586 rows x 6 columns]"
            ]
          },
          "execution_count": 105,
          "metadata": {},
          "output_type": "execute_result"
        }
      ],
      "source": [
        "raw_data = pd.read_csv(csv_file_path) \n",
        "raw_data"
      ]
    },
    {
      "cell_type": "markdown",
      "metadata": {
        "id": "p_oCGAgEhfQw"
      },
      "source": [
        "## 2. Feature Engineering"
      ]
    },
    {
      "cell_type": "code",
      "execution_count": 170,
      "metadata": {
        "ExecuteTime": {
          "end_time": "2021-05-24T09:49:29.682739Z",
          "start_time": "2021-05-24T09:49:28.979Z"
        },
        "id": "URNLoukChfQx"
      },
      "outputs": [],
      "source": [
        "import datetime\n",
        "\n",
        "def feature_engineering(df):\n",
        "    \n",
        "    #유저별 시퀀스를 고려하기 위해 아래와 같이 정렬\n",
        "    df.sort_values(by=['userID','Timestamp'], inplace=True)\n",
        "    \n",
        "    #유저들의 문제 풀이수, 정답 수, 정답률을 시간순으로 누적해서 계산\n",
        "    df['user_correct_answer'] = df.groupby('userID')['answerCode'].transform(lambda x: x.cumsum().shift(1))\n",
        "    df['user_total_answer'] = df.groupby('userID')['answerCode'].cumcount()\n",
        "    df['user_acc'] = df['user_correct_answer']/df['user_total_answer']\n",
        "    \n",
        "    # testId와 KnowledgeTag의 전체 정답률은 한번에 계산\n",
        "    # 아래 데이터는 제출용 데이터셋에 대해서도 재사용\n",
        "    correct_t = df.groupby(['testId'])['answerCode'].agg(['mean', 'sum'])\n",
        "    correct_t.columns = [\"test_mean\", 'test_sum']\n",
        "    correct_k = df.groupby(['KnowledgeTag'])['answerCode'].agg(['mean', 'sum'])\n",
        "    correct_k.columns = [\"tag_mean\", 'tag_sum']\n",
        "\n",
        "    df = pd.merge(df, correct_t, on=['testId'], how=\"left\")\n",
        "    df = pd.merge(df, correct_k, on=['KnowledgeTag'], how=\"left\")\n",
        "    \n",
        "    df.insert(3, \"solveTime\", np.NaN)\n",
        "    train_np = df.to_numpy()\n",
        "\n",
        "    idx_list = list()\n",
        "\n",
        "    for i in range(len(train_np)-1):\n",
        "        # 현재 문제의 timestamp을 가져온다\n",
        "        current_date_data, current_time_data = train_np[i][5].strip().split(\" \")\n",
        "        current_year, current_month, current_day = map(int, list(current_date_data.split(\"-\")))\n",
        "        current_hour, current_minute, current_second = map(int, list(current_time_data.split(\":\")))\n",
        "\n",
        "        # 다음 문제의 timestamp를 가져온다.\n",
        "        next_date_data, next_time_data = train_np[i+1][5].strip().split(\" \")\n",
        "        next_year, next_month, next_day = map(int, list(next_date_data.split(\"-\")))\n",
        "        next_hour, next_minute, next_second = map(int, list(next_time_data.split(\":\")))\n",
        "\n",
        "\n",
        "        # 같은 유저가 다음 문제도 같은 시험지를 풀고 았거나, \n",
        "        # 다른 시험 문제지를 같은 날짜에 풀었을 경우\n",
        "        # 문제 푸는 시간 = 다음 문제가 시작 시간 - 현재 문제가 시작한 시간\n",
        "        if train_np[i][0]==train_np[i+1][0] and \\\n",
        "            (train_np[i][2]==train_np[i+1][2] or (train_np[i][5]!=train_np[i+1][5] and current_date_data == next_date_data)):         \n",
        "            train_np[i][3] = datetime.datetime(next_year, next_month, next_day, next_hour, next_minute, next_second) - datetime.datetime(current_year, current_month, current_day, current_hour, current_minute, current_second)\n",
        "            train_np[i][3] = train_np[i][3].total_seconds() # 초로 변환\n",
        "            #if train_np[i][3]>150 : train_np[i][3] = 150\n",
        "\n",
        "        else :\n",
        "            # 마지막으로 푼 문제인 경우는 60으로 통일\n",
        "            train_np[i][3] = 60.0\n",
        "\n",
        "        df.iloc[i,3] = train_np[i][3]\n",
        "\n",
        "        #if train_np[i][3] == 0  : idx_list.append(i)\n",
        "   \n",
        "    train_np[-1][3] = 60.0\n",
        "    df.iloc[-1,3] = train_np[i][3]\n",
        "\n",
        "    \n",
        "    test_mean_solveTime = df.groupby('testId')['solveTime'].mean()\n",
        "    test_mean_solveTime.columns = ['test_mean_solveTime']\n",
        "    # user_mean_solveTime = df.groupby('userID')['solveTime'].mean()\n",
        "    # user_mean_solveTime.columns = ['user_mean_solveTime']\n",
        "    tag_mean_solveTime = df.groupby('KnowledgeTag')['solveTime'].mean()\n",
        "    tag_mean_solveTime.columns = ['tag_mean_solveTime']\n",
        "    #assessmentItem_mean_solveTime = df.groupby('assessmentItemID')['solveTime'].mean()\n",
        "    #assessmentItem_mean_solveTime.columns = ['assessmentItem_mean_solveTime']\n",
        "\n",
        "    df = pd.merge(df, test_mean_solveTime, on=['testId'], how=\"left\")\n",
        "    #df = pd.merge(df, user_mean_solveTime, on=['userID'], how=\"left\")\n",
        "    df = pd.merge(df, tag_mean_solveTime, on=['KnowledgeTag'], how=\"left\")\n",
        "    #df = pd.merge(df, assessmentItem_mean_solveTime, on=['assessmentItemID'], how=\"left\")\n",
        "\n",
        "    df.insert(1, \"testType\", np.NaN)\n",
        "    df.insert(2, \"testID\", np.NaN)\n",
        "    df.insert(3, \"questionID\", np.NaN)\n",
        "\n",
        "    train_np = df.to_numpy()\n",
        "\n",
        "\n",
        "    for i in range(len(df)):\n",
        "        assessmentItemID = train_np[i][4]\n",
        "        train_np[i][1] = int(assessmentItemID[2])\n",
        "        train_np[i][2] = int(assessmentItemID[4:7])\n",
        "        train_np[i][3] = int(assessmentItemID[8:])\n",
        "\n",
        "    df = pd.DataFrame(train_np, columns=df.columns)\n",
        "\n",
        "    \n",
        "    #df = df.drop(idx_list, axis=0)\n",
        "    #df = df.drop(['solveTime'], axis=1)\n",
        "\n",
        "    return df"
      ]
    },
    {
      "cell_type": "code",
      "execution_count": 171,
      "metadata": {
        "ExecuteTime": {
          "end_time": "2021-05-24T09:49:29.683739Z",
          "start_time": "2021-05-24T09:49:28.981Z"
        },
        "id": "2vsUwksMhfQy",
        "scrolled": false
      },
      "outputs": [
        {
          "ename": "KeyError",
          "evalue": "'Column not found: solveTime'",
          "output_type": "error",
          "traceback": [
            "\u001b[0;31m---------------------------------------------------------------------------\u001b[0m",
            "\u001b[0;31mKeyError\u001b[0m                                  Traceback (most recent call last)",
            "\u001b[1;32m/opt/ml/input/code/lgbm/(미션_2)_LGBM_Baseline_ipynb의_사본.ipynb Cell 8'\u001b[0m in \u001b[0;36m<cell line: 2>\u001b[0;34m()\u001b[0m\n\u001b[1;32m      <a href='vscode-notebook-cell://ssh-remote%2B115.85.183.199/opt/ml/input/code/lgbm/%28%EB%AF%B8%EC%85%98_2%29_LGBM_Baseline_ipynb%EC%9D%98_%EC%82%AC%EB%B3%B8.ipynb#ch0000007vscode-remote?line=0'>1</a>\u001b[0m df \u001b[39m=\u001b[39m pd\u001b[39m.\u001b[39mread_csv(csv_file_path) \n\u001b[0;32m----> <a href='vscode-notebook-cell://ssh-remote%2B115.85.183.199/opt/ml/input/code/lgbm/%28%EB%AF%B8%EC%85%98_2%29_LGBM_Baseline_ipynb%EC%9D%98_%EC%82%AC%EB%B3%B8.ipynb#ch0000007vscode-remote?line=1'>2</a>\u001b[0m df \u001b[39m=\u001b[39m feature_engineering(df)\n\u001b[1;32m      <a href='vscode-notebook-cell://ssh-remote%2B115.85.183.199/opt/ml/input/code/lgbm/%28%EB%AF%B8%EC%85%98_2%29_LGBM_Baseline_ipynb%EC%9D%98_%EC%82%AC%EB%B3%B8.ipynb#ch0000007vscode-remote?line=2'>3</a>\u001b[0m \u001b[39m#df = feature_engineering(df).drop(columns=['Timestamp'])\u001b[39;00m\n\u001b[1;32m      <a href='vscode-notebook-cell://ssh-remote%2B115.85.183.199/opt/ml/input/code/lgbm/%28%EB%AF%B8%EC%85%98_2%29_LGBM_Baseline_ipynb%EC%9D%98_%EC%82%AC%EB%B3%B8.ipynb#ch0000007vscode-remote?line=3'>4</a>\u001b[0m df\n",
            "\u001b[1;32m/opt/ml/input/code/lgbm/(미션_2)_LGBM_Baseline_ipynb의_사본.ipynb Cell 7'\u001b[0m in \u001b[0;36mfeature_engineering\u001b[0;34m(df)\u001b[0m\n\u001b[1;32m     <a href='vscode-notebook-cell://ssh-remote%2B115.85.183.199/opt/ml/input/code/lgbm/%28%EB%AF%B8%EC%85%98_2%29_LGBM_Baseline_ipynb%EC%9D%98_%EC%82%AC%EB%B3%B8.ipynb#ch0000006vscode-remote?line=19'>20</a>\u001b[0m df \u001b[39m=\u001b[39m pd\u001b[39m.\u001b[39mmerge(df, correct_t, on\u001b[39m=\u001b[39m[\u001b[39m'\u001b[39m\u001b[39mtestId\u001b[39m\u001b[39m'\u001b[39m], how\u001b[39m=\u001b[39m\u001b[39m\"\u001b[39m\u001b[39mleft\u001b[39m\u001b[39m\"\u001b[39m)\n\u001b[1;32m     <a href='vscode-notebook-cell://ssh-remote%2B115.85.183.199/opt/ml/input/code/lgbm/%28%EB%AF%B8%EC%85%98_2%29_LGBM_Baseline_ipynb%EC%9D%98_%EC%82%AC%EB%B3%B8.ipynb#ch0000006vscode-remote?line=20'>21</a>\u001b[0m df \u001b[39m=\u001b[39m pd\u001b[39m.\u001b[39mmerge(df, correct_k, on\u001b[39m=\u001b[39m[\u001b[39m'\u001b[39m\u001b[39mKnowledgeTag\u001b[39m\u001b[39m'\u001b[39m], how\u001b[39m=\u001b[39m\u001b[39m\"\u001b[39m\u001b[39mleft\u001b[39m\u001b[39m\"\u001b[39m)\n\u001b[0;32m---> <a href='vscode-notebook-cell://ssh-remote%2B115.85.183.199/opt/ml/input/code/lgbm/%28%EB%AF%B8%EC%85%98_2%29_LGBM_Baseline_ipynb%EC%9D%98_%EC%82%AC%EB%B3%B8.ipynb#ch0000006vscode-remote?line=23'>24</a>\u001b[0m test_mean_solveTime \u001b[39m=\u001b[39m df\u001b[39m.\u001b[39;49mgroupby(\u001b[39m'\u001b[39;49m\u001b[39mtestId\u001b[39;49m\u001b[39m'\u001b[39;49m)[\u001b[39m'\u001b[39;49m\u001b[39msolveTime\u001b[39;49m\u001b[39m'\u001b[39;49m]\u001b[39m.\u001b[39mmean()\n\u001b[1;32m     <a href='vscode-notebook-cell://ssh-remote%2B115.85.183.199/opt/ml/input/code/lgbm/%28%EB%AF%B8%EC%85%98_2%29_LGBM_Baseline_ipynb%EC%9D%98_%EC%82%AC%EB%B3%B8.ipynb#ch0000006vscode-remote?line=24'>25</a>\u001b[0m test_mean_solveTime\u001b[39m.\u001b[39mcolumns \u001b[39m=\u001b[39m [\u001b[39m'\u001b[39m\u001b[39mtest_mean_solveTime\u001b[39m\u001b[39m'\u001b[39m]\n\u001b[1;32m     <a href='vscode-notebook-cell://ssh-remote%2B115.85.183.199/opt/ml/input/code/lgbm/%28%EB%AF%B8%EC%85%98_2%29_LGBM_Baseline_ipynb%EC%9D%98_%EC%82%AC%EB%B3%B8.ipynb#ch0000006vscode-remote?line=25'>26</a>\u001b[0m \u001b[39m# user_mean_solveTime = df.groupby('userID')['solveTime'].mean()\u001b[39;00m\n\u001b[1;32m     <a href='vscode-notebook-cell://ssh-remote%2B115.85.183.199/opt/ml/input/code/lgbm/%28%EB%AF%B8%EC%85%98_2%29_LGBM_Baseline_ipynb%EC%9D%98_%EC%82%AC%EB%B3%B8.ipynb#ch0000006vscode-remote?line=26'>27</a>\u001b[0m \u001b[39m# user_mean_solveTime.columns = ['user_mean_solveTime']\u001b[39;00m\n",
            "File \u001b[0;32m/opt/conda/lib/python3.8/site-packages/pandas/core/groupby/generic.py:1338\u001b[0m, in \u001b[0;36mDataFrameGroupBy.__getitem__\u001b[0;34m(self, key)\u001b[0m\n\u001b[1;32m   <a href='file:///opt/conda/lib/python3.8/site-packages/pandas/core/groupby/generic.py?line=1328'>1329</a>\u001b[0m \u001b[39mif\u001b[39;00m \u001b[39misinstance\u001b[39m(key, \u001b[39mtuple\u001b[39m) \u001b[39mand\u001b[39;00m \u001b[39mlen\u001b[39m(key) \u001b[39m>\u001b[39m \u001b[39m1\u001b[39m:\n\u001b[1;32m   <a href='file:///opt/conda/lib/python3.8/site-packages/pandas/core/groupby/generic.py?line=1329'>1330</a>\u001b[0m     \u001b[39m# if len == 1, then it becomes a SeriesGroupBy and this is actually\u001b[39;00m\n\u001b[1;32m   <a href='file:///opt/conda/lib/python3.8/site-packages/pandas/core/groupby/generic.py?line=1330'>1331</a>\u001b[0m     \u001b[39m# valid syntax, so don't raise warning\u001b[39;00m\n\u001b[1;32m   <a href='file:///opt/conda/lib/python3.8/site-packages/pandas/core/groupby/generic.py?line=1331'>1332</a>\u001b[0m     warnings\u001b[39m.\u001b[39mwarn(\n\u001b[1;32m   <a href='file:///opt/conda/lib/python3.8/site-packages/pandas/core/groupby/generic.py?line=1332'>1333</a>\u001b[0m         \u001b[39m\"\u001b[39m\u001b[39mIndexing with multiple keys (implicitly converted to a tuple \u001b[39m\u001b[39m\"\u001b[39m\n\u001b[1;32m   <a href='file:///opt/conda/lib/python3.8/site-packages/pandas/core/groupby/generic.py?line=1333'>1334</a>\u001b[0m         \u001b[39m\"\u001b[39m\u001b[39mof keys) will be deprecated, use a list instead.\u001b[39m\u001b[39m\"\u001b[39m,\n\u001b[1;32m   <a href='file:///opt/conda/lib/python3.8/site-packages/pandas/core/groupby/generic.py?line=1334'>1335</a>\u001b[0m         \u001b[39mFutureWarning\u001b[39;00m,\n\u001b[1;32m   <a href='file:///opt/conda/lib/python3.8/site-packages/pandas/core/groupby/generic.py?line=1335'>1336</a>\u001b[0m         stacklevel\u001b[39m=\u001b[39mfind_stack_level(),\n\u001b[1;32m   <a href='file:///opt/conda/lib/python3.8/site-packages/pandas/core/groupby/generic.py?line=1336'>1337</a>\u001b[0m     )\n\u001b[0;32m-> <a href='file:///opt/conda/lib/python3.8/site-packages/pandas/core/groupby/generic.py?line=1337'>1338</a>\u001b[0m \u001b[39mreturn\u001b[39;00m \u001b[39msuper\u001b[39;49m()\u001b[39m.\u001b[39;49m\u001b[39m__getitem__\u001b[39;49m(key)\n",
            "File \u001b[0;32m/opt/conda/lib/python3.8/site-packages/pandas/core/base.py:250\u001b[0m, in \u001b[0;36mSelectionMixin.__getitem__\u001b[0;34m(self, key)\u001b[0m\n\u001b[1;32m    <a href='file:///opt/conda/lib/python3.8/site-packages/pandas/core/base.py?line=247'>248</a>\u001b[0m \u001b[39melse\u001b[39;00m:\n\u001b[1;32m    <a href='file:///opt/conda/lib/python3.8/site-packages/pandas/core/base.py?line=248'>249</a>\u001b[0m     \u001b[39mif\u001b[39;00m key \u001b[39mnot\u001b[39;00m \u001b[39min\u001b[39;00m \u001b[39mself\u001b[39m\u001b[39m.\u001b[39mobj:\n\u001b[0;32m--> <a href='file:///opt/conda/lib/python3.8/site-packages/pandas/core/base.py?line=249'>250</a>\u001b[0m         \u001b[39mraise\u001b[39;00m \u001b[39mKeyError\u001b[39;00m(\u001b[39mf\u001b[39m\u001b[39m\"\u001b[39m\u001b[39mColumn not found: \u001b[39m\u001b[39m{\u001b[39;00mkey\u001b[39m}\u001b[39;00m\u001b[39m\"\u001b[39m)\n\u001b[1;32m    <a href='file:///opt/conda/lib/python3.8/site-packages/pandas/core/base.py?line=250'>251</a>\u001b[0m     subset \u001b[39m=\u001b[39m \u001b[39mself\u001b[39m\u001b[39m.\u001b[39mobj[key]\n\u001b[1;32m    <a href='file:///opt/conda/lib/python3.8/site-packages/pandas/core/base.py?line=251'>252</a>\u001b[0m     ndim \u001b[39m=\u001b[39m subset\u001b[39m.\u001b[39mndim\n",
            "\u001b[0;31mKeyError\u001b[0m: 'Column not found: solveTime'"
          ]
        }
      ],
      "source": [
        "df = pd.read_csv(csv_file_path) \n",
        "df = feature_engineering(df)\n",
        "#df = feature_engineering(df).drop(columns=['Timestamp'])\n",
        "df"
      ]
    },
    {
      "cell_type": "code",
      "execution_count": 151,
      "metadata": {},
      "outputs": [
        {
          "data": {
            "text/html": [
              "<div>\n",
              "<style scoped>\n",
              "    .dataframe tbody tr th:only-of-type {\n",
              "        vertical-align: middle;\n",
              "    }\n",
              "\n",
              "    .dataframe tbody tr th {\n",
              "        vertical-align: top;\n",
              "    }\n",
              "\n",
              "    .dataframe thead th {\n",
              "        text-align: right;\n",
              "    }\n",
              "</style>\n",
              "<table border=\"1\" class=\"dataframe\">\n",
              "  <thead>\n",
              "    <tr style=\"text-align: right;\">\n",
              "      <th></th>\n",
              "      <th>userID</th>\n",
              "      <th>testType</th>\n",
              "      <th>testID</th>\n",
              "      <th>questionID</th>\n",
              "      <th>assessmentItemID</th>\n",
              "      <th>testId</th>\n",
              "      <th>solveTime_x</th>\n",
              "      <th>answerCode</th>\n",
              "      <th>Timestamp</th>\n",
              "      <th>KnowledgeTag</th>\n",
              "      <th>user_correct_answer</th>\n",
              "      <th>user_total_answer</th>\n",
              "      <th>user_acc</th>\n",
              "      <th>test_mean</th>\n",
              "      <th>test_sum</th>\n",
              "      <th>tag_mean</th>\n",
              "      <th>tag_sum</th>\n",
              "      <th>test_mean_solveTime</th>\n",
              "      <th>tag_mean_solveTime</th>\n",
              "    </tr>\n",
              "  </thead>\n",
              "  <tbody>\n",
              "    <tr>\n",
              "      <th>0</th>\n",
              "      <td>0</td>\n",
              "      <td>6</td>\n",
              "      <td>1</td>\n",
              "      <td>1</td>\n",
              "      <td>A060001001</td>\n",
              "      <td>A060000001</td>\n",
              "      <td>3.0</td>\n",
              "      <td>1</td>\n",
              "      <td>2020-03-24 00:17:11</td>\n",
              "      <td>7224</td>\n",
              "      <td>NaN</td>\n",
              "      <td>0</td>\n",
              "      <td>NaN</td>\n",
              "      <td>0.947683</td>\n",
              "      <td>1268</td>\n",
              "      <td>0.955022</td>\n",
              "      <td>637</td>\n",
              "      <td>471.632287</td>\n",
              "      <td>20.58021</td>\n",
              "    </tr>\n",
              "    <tr>\n",
              "      <th>1</th>\n",
              "      <td>0</td>\n",
              "      <td>6</td>\n",
              "      <td>1</td>\n",
              "      <td>2</td>\n",
              "      <td>A060001002</td>\n",
              "      <td>A060000001</td>\n",
              "      <td>8.0</td>\n",
              "      <td>1</td>\n",
              "      <td>2020-03-24 00:17:14</td>\n",
              "      <td>7225</td>\n",
              "      <td>1.0</td>\n",
              "      <td>1</td>\n",
              "      <td>1.0</td>\n",
              "      <td>0.947683</td>\n",
              "      <td>1268</td>\n",
              "      <td>0.913187</td>\n",
              "      <td>3040</td>\n",
              "      <td>471.632287</td>\n",
              "      <td>480.769901</td>\n",
              "    </tr>\n",
              "    <tr>\n",
              "      <th>2</th>\n",
              "      <td>0</td>\n",
              "      <td>6</td>\n",
              "      <td>1</td>\n",
              "      <td>3</td>\n",
              "      <td>A060001003</td>\n",
              "      <td>A060000001</td>\n",
              "      <td>7.0</td>\n",
              "      <td>1</td>\n",
              "      <td>2020-03-24 00:17:22</td>\n",
              "      <td>7225</td>\n",
              "      <td>2.0</td>\n",
              "      <td>2</td>\n",
              "      <td>1.0</td>\n",
              "      <td>0.947683</td>\n",
              "      <td>1268</td>\n",
              "      <td>0.913187</td>\n",
              "      <td>3040</td>\n",
              "      <td>471.632287</td>\n",
              "      <td>480.769901</td>\n",
              "    </tr>\n",
              "    <tr>\n",
              "      <th>3</th>\n",
              "      <td>0</td>\n",
              "      <td>6</td>\n",
              "      <td>1</td>\n",
              "      <td>4</td>\n",
              "      <td>A060001004</td>\n",
              "      <td>A060000001</td>\n",
              "      <td>7.0</td>\n",
              "      <td>1</td>\n",
              "      <td>2020-03-24 00:17:29</td>\n",
              "      <td>7225</td>\n",
              "      <td>3.0</td>\n",
              "      <td>3</td>\n",
              "      <td>1.0</td>\n",
              "      <td>0.947683</td>\n",
              "      <td>1268</td>\n",
              "      <td>0.913187</td>\n",
              "      <td>3040</td>\n",
              "      <td>471.632287</td>\n",
              "      <td>480.769901</td>\n",
              "    </tr>\n",
              "    <tr>\n",
              "      <th>4</th>\n",
              "      <td>0</td>\n",
              "      <td>6</td>\n",
              "      <td>1</td>\n",
              "      <td>5</td>\n",
              "      <td>A060001005</td>\n",
              "      <td>A060000001</td>\n",
              "      <td>11.0</td>\n",
              "      <td>1</td>\n",
              "      <td>2020-03-24 00:17:36</td>\n",
              "      <td>7225</td>\n",
              "      <td>4.0</td>\n",
              "      <td>4</td>\n",
              "      <td>1.0</td>\n",
              "      <td>0.947683</td>\n",
              "      <td>1268</td>\n",
              "      <td>0.913187</td>\n",
              "      <td>3040</td>\n",
              "      <td>471.632287</td>\n",
              "      <td>480.769901</td>\n",
              "    </tr>\n",
              "    <tr>\n",
              "      <th>...</th>\n",
              "      <td>...</td>\n",
              "      <td>...</td>\n",
              "      <td>...</td>\n",
              "      <td>...</td>\n",
              "      <td>...</td>\n",
              "      <td>...</td>\n",
              "      <td>...</td>\n",
              "      <td>...</td>\n",
              "      <td>...</td>\n",
              "      <td>...</td>\n",
              "      <td>...</td>\n",
              "      <td>...</td>\n",
              "      <td>...</td>\n",
              "      <td>...</td>\n",
              "      <td>...</td>\n",
              "      <td>...</td>\n",
              "      <td>...</td>\n",
              "      <td>...</td>\n",
              "      <td>...</td>\n",
              "    </tr>\n",
              "    <tr>\n",
              "      <th>2266581</th>\n",
              "      <td>7441</td>\n",
              "      <td>3</td>\n",
              "      <td>71</td>\n",
              "      <td>5</td>\n",
              "      <td>A030071005</td>\n",
              "      <td>A030000071</td>\n",
              "      <td>60.0</td>\n",
              "      <td>0</td>\n",
              "      <td>2020-06-05 06:50:21</td>\n",
              "      <td>438</td>\n",
              "      <td>1.0</td>\n",
              "      <td>4</td>\n",
              "      <td>0.25</td>\n",
              "      <td>0.66259</td>\n",
              "      <td>921</td>\n",
              "      <td>0.689706</td>\n",
              "      <td>2814</td>\n",
              "      <td>461.284173</td>\n",
              "      <td>523.940441</td>\n",
              "    </tr>\n",
              "    <tr>\n",
              "      <th>2266582</th>\n",
              "      <td>7441</td>\n",
              "      <td>4</td>\n",
              "      <td>165</td>\n",
              "      <td>1</td>\n",
              "      <td>A040165001</td>\n",
              "      <td>A040000165</td>\n",
              "      <td>11.0</td>\n",
              "      <td>1</td>\n",
              "      <td>2020-08-21 01:06:39</td>\n",
              "      <td>8836</td>\n",
              "      <td>1.0</td>\n",
              "      <td>5</td>\n",
              "      <td>0.2</td>\n",
              "      <td>0.655109</td>\n",
              "      <td>718</td>\n",
              "      <td>0.697874</td>\n",
              "      <td>2199</td>\n",
              "      <td>711.779197</td>\n",
              "      <td>563.497302</td>\n",
              "    </tr>\n",
              "    <tr>\n",
              "      <th>2266583</th>\n",
              "      <td>7441</td>\n",
              "      <td>4</td>\n",
              "      <td>165</td>\n",
              "      <td>2</td>\n",
              "      <td>A040165002</td>\n",
              "      <td>A040000165</td>\n",
              "      <td>46.0</td>\n",
              "      <td>1</td>\n",
              "      <td>2020-08-21 01:06:50</td>\n",
              "      <td>8836</td>\n",
              "      <td>2.0</td>\n",
              "      <td>6</td>\n",
              "      <td>0.333333</td>\n",
              "      <td>0.655109</td>\n",
              "      <td>718</td>\n",
              "      <td>0.697874</td>\n",
              "      <td>2199</td>\n",
              "      <td>711.779197</td>\n",
              "      <td>563.497302</td>\n",
              "    </tr>\n",
              "    <tr>\n",
              "      <th>2266584</th>\n",
              "      <td>7441</td>\n",
              "      <td>4</td>\n",
              "      <td>165</td>\n",
              "      <td>3</td>\n",
              "      <td>A040165003</td>\n",
              "      <td>A040000165</td>\n",
              "      <td>73.0</td>\n",
              "      <td>1</td>\n",
              "      <td>2020-08-21 01:07:36</td>\n",
              "      <td>8836</td>\n",
              "      <td>3.0</td>\n",
              "      <td>7</td>\n",
              "      <td>0.428571</td>\n",
              "      <td>0.655109</td>\n",
              "      <td>718</td>\n",
              "      <td>0.697874</td>\n",
              "      <td>2199</td>\n",
              "      <td>711.779197</td>\n",
              "      <td>563.497302</td>\n",
              "    </tr>\n",
              "    <tr>\n",
              "      <th>2266585</th>\n",
              "      <td>7441</td>\n",
              "      <td>4</td>\n",
              "      <td>165</td>\n",
              "      <td>4</td>\n",
              "      <td>A040165004</td>\n",
              "      <td>A040000165</td>\n",
              "      <td>73.0</td>\n",
              "      <td>1</td>\n",
              "      <td>2020-08-21 01:08:49</td>\n",
              "      <td>8836</td>\n",
              "      <td>4.0</td>\n",
              "      <td>8</td>\n",
              "      <td>0.5</td>\n",
              "      <td>0.655109</td>\n",
              "      <td>718</td>\n",
              "      <td>0.697874</td>\n",
              "      <td>2199</td>\n",
              "      <td>711.779197</td>\n",
              "      <td>563.497302</td>\n",
              "    </tr>\n",
              "  </tbody>\n",
              "</table>\n",
              "<p>2266586 rows × 19 columns</p>\n",
              "</div>"
            ],
            "text/plain": [
              "        userID testType testID questionID assessmentItemID      testId  \\\n",
              "0            0        6      1          1       A060001001  A060000001   \n",
              "1            0        6      1          2       A060001002  A060000001   \n",
              "2            0        6      1          3       A060001003  A060000001   \n",
              "3            0        6      1          4       A060001004  A060000001   \n",
              "4            0        6      1          5       A060001005  A060000001   \n",
              "...        ...      ...    ...        ...              ...         ...   \n",
              "2266581   7441        3     71          5       A030071005  A030000071   \n",
              "2266582   7441        4    165          1       A040165001  A040000165   \n",
              "2266583   7441        4    165          2       A040165002  A040000165   \n",
              "2266584   7441        4    165          3       A040165003  A040000165   \n",
              "2266585   7441        4    165          4       A040165004  A040000165   \n",
              "\n",
              "        solveTime_x answerCode            Timestamp KnowledgeTag  \\\n",
              "0               3.0          1  2020-03-24 00:17:11         7224   \n",
              "1               8.0          1  2020-03-24 00:17:14         7225   \n",
              "2               7.0          1  2020-03-24 00:17:22         7225   \n",
              "3               7.0          1  2020-03-24 00:17:29         7225   \n",
              "4              11.0          1  2020-03-24 00:17:36         7225   \n",
              "...             ...        ...                  ...          ...   \n",
              "2266581        60.0          0  2020-06-05 06:50:21          438   \n",
              "2266582        11.0          1  2020-08-21 01:06:39         8836   \n",
              "2266583        46.0          1  2020-08-21 01:06:50         8836   \n",
              "2266584        73.0          1  2020-08-21 01:07:36         8836   \n",
              "2266585        73.0          1  2020-08-21 01:08:49         8836   \n",
              "\n",
              "        user_correct_answer user_total_answer  user_acc test_mean test_sum  \\\n",
              "0                       NaN                 0       NaN  0.947683     1268   \n",
              "1                       1.0                 1       1.0  0.947683     1268   \n",
              "2                       2.0                 2       1.0  0.947683     1268   \n",
              "3                       3.0                 3       1.0  0.947683     1268   \n",
              "4                       4.0                 4       1.0  0.947683     1268   \n",
              "...                     ...               ...       ...       ...      ...   \n",
              "2266581                 1.0                 4      0.25   0.66259      921   \n",
              "2266582                 1.0                 5       0.2  0.655109      718   \n",
              "2266583                 2.0                 6  0.333333  0.655109      718   \n",
              "2266584                 3.0                 7  0.428571  0.655109      718   \n",
              "2266585                 4.0                 8       0.5  0.655109      718   \n",
              "\n",
              "         tag_mean tag_sum test_mean_solveTime tag_mean_solveTime  \n",
              "0        0.955022     637          471.632287           20.58021  \n",
              "1        0.913187    3040          471.632287         480.769901  \n",
              "2        0.913187    3040          471.632287         480.769901  \n",
              "3        0.913187    3040          471.632287         480.769901  \n",
              "4        0.913187    3040          471.632287         480.769901  \n",
              "...           ...     ...                 ...                ...  \n",
              "2266581  0.689706    2814          461.284173         523.940441  \n",
              "2266582  0.697874    2199          711.779197         563.497302  \n",
              "2266583  0.697874    2199          711.779197         563.497302  \n",
              "2266584  0.697874    2199          711.779197         563.497302  \n",
              "2266585  0.697874    2199          711.779197         563.497302  \n",
              "\n",
              "[2266586 rows x 19 columns]"
            ]
          },
          "execution_count": 151,
          "metadata": {},
          "output_type": "execute_result"
        }
      ],
      "source": [
        "col = list(df.columns)\n",
        "col[-2] = 'test_mean_solveTime'\n",
        "col[-1] = 'tag_mean_solveTime'\n",
        "df.columns = col \n",
        "df"
      ]
    },
    {
      "cell_type": "markdown",
      "metadata": {
        "id": "5VZzei3DhfQy"
      },
      "source": [
        "## 3. Train/Test 데이터 셋 분리"
      ]
    },
    {
      "cell_type": "code",
      "execution_count": 152,
      "metadata": {
        "ExecuteTime": {
          "end_time": "2021-05-24T09:49:29.684739Z",
          "start_time": "2021-05-24T09:49:28.982Z"
        },
        "id": "YOPWK7ckhfQz"
      },
      "outputs": [],
      "source": [
        "# train과 test 데이터셋은 사용자 별로 묶어서 분리를 해주어야함\n",
        "random.seed(42)\n",
        "def custom_train_test_split(df, ratio=0.7, split=True):\n",
        "    \n",
        "    users = list(zip(df['userID'].value_counts().index, df['userID'].value_counts()))\n",
        "    random.shuffle(users)\n",
        "    \n",
        "    max_train_data_len = ratio*len(df)\n",
        "    sum_of_train_data = 0\n",
        "    user_ids =[]\n",
        "\n",
        "    for user_id, count in users:\n",
        "        sum_of_train_data += count\n",
        "        if max_train_data_len < sum_of_train_data:\n",
        "            break\n",
        "        user_ids.append(user_id)\n",
        "\n",
        "\n",
        "    train = df[df['userID'].isin(user_ids)]\n",
        "    test = df[df['userID'].isin(user_ids) == False]\n",
        "\n",
        "    #test데이터셋은 각 유저의 마지막 interaction만 추출\n",
        "    test = test[test['userID'] != test['userID'].shift(-1)]\n",
        "    return train, test"
      ]
    },
    {
      "cell_type": "code",
      "execution_count": 165,
      "metadata": {
        "ExecuteTime": {
          "end_time": "2021-05-24T09:49:29.686739Z",
          "start_time": "2021-05-24T09:49:28.984Z"
        },
        "id": "i3HzdoybhfQ0"
      },
      "outputs": [],
      "source": [
        "# 유저별 분리\n",
        "train, test = custom_train_test_split(df)\n",
        "\n",
        "# 사용할 Feature 설정\n",
        "FEATS = ['KnowledgeTag', 'user_correct_answer', 'user_total_answer', \n",
        "         'user_acc', 'test_mean', 'test_sum', 'tag_mean','tag_sum', 'userID','testType', 'testID', 'questionID']\n",
        "\n",
        "# X, y 값 분리\n",
        "y_train = train['answerCode']\n",
        "train = train.drop(['answerCode'], axis=1)\n",
        "\n",
        "y_test = test['answerCode']\n",
        "test = test.drop(['answerCode'], axis=1)"
      ]
    },
    {
      "cell_type": "code",
      "execution_count": 166,
      "metadata": {
        "id": "Y4c-gjS2hfQ0"
      },
      "outputs": [],
      "source": [
        "#!pip install lightgbm"
      ]
    },
    {
      "cell_type": "code",
      "execution_count": 167,
      "metadata": {
        "ExecuteTime": {
          "end_time": "2021-05-24T09:49:29.687739Z",
          "start_time": "2021-05-24T09:49:28.985Z"
        },
        "id": "mwAF79FbhfQ1"
      },
      "outputs": [],
      "source": [
        "import lightgbm as lgb\n",
        "from sklearn.metrics import roc_auc_score\n",
        "from sklearn.metrics import accuracy_score\n",
        "import numpy as np"
      ]
    },
    {
      "cell_type": "code",
      "execution_count": 168,
      "metadata": {
        "ExecuteTime": {
          "end_time": "2021-05-24T09:49:29.688736Z",
          "start_time": "2021-05-24T09:49:28.986Z"
        },
        "id": "o59GhDdVhfQ1"
      },
      "outputs": [],
      "source": [
        "lgb_train = lgb.Dataset(train[FEATS], y_train)\n",
        "lgb_test = lgb.Dataset(test[FEATS], y_test)"
      ]
    },
    {
      "cell_type": "markdown",
      "metadata": {
        "id": "KiHss_BBhfQ2"
      },
      "source": [
        "## 4. 훈련 및 검증"
      ]
    },
    {
      "cell_type": "code",
      "execution_count": 169,
      "metadata": {
        "ExecuteTime": {
          "end_time": "2021-05-24T09:49:29.689738Z",
          "start_time": "2021-05-24T09:49:28.988Z"
        },
        "id": "-6FZfjA_hfQ2"
      },
      "outputs": [
        {
          "name": "stderr",
          "output_type": "stream",
          "text": [
            "/opt/conda/lib/python3.8/site-packages/lightgbm/engine.py:181: UserWarning: 'early_stopping_rounds' argument is deprecated and will be removed in a future release of LightGBM. Pass 'early_stopping()' callback via 'callbacks' argument instead.\n",
            "  _log_warning(\"'early_stopping_rounds' argument is deprecated and will be removed in a future release of LightGBM. \"\n",
            "/opt/conda/lib/python3.8/site-packages/lightgbm/engine.py:239: UserWarning: 'verbose_eval' argument is deprecated and will be removed in a future release of LightGBM. Pass 'log_evaluation()' callback via 'callbacks' argument instead.\n",
            "  _log_warning(\"'verbose_eval' argument is deprecated and will be removed in a future release of LightGBM. \"\n"
          ]
        },
        {
          "ename": "ValueError",
          "evalue": "DataFrame.dtypes for data must be int, float or bool.\nDid not expect the data types in the following fields: KnowledgeTag, user_correct_answer, user_total_answer, user_acc, test_mean, test_sum, tag_mean, tag_sum, userID",
          "output_type": "error",
          "traceback": [
            "\u001b[0;31m---------------------------------------------------------------------------\u001b[0m",
            "\u001b[0;31mValueError\u001b[0m                                Traceback (most recent call last)",
            "\u001b[1;32m/opt/ml/input/code/lgbm/(미션_2)_LGBM_Baseline_ipynb의_사본.ipynb Cell 17'\u001b[0m in \u001b[0;36m<cell line: 1>\u001b[0;34m()\u001b[0m\n\u001b[0;32m----> <a href='vscode-notebook-cell://ssh-remote%2B115.85.183.199/opt/ml/input/code/lgbm/%28%EB%AF%B8%EC%85%98_2%29_LGBM_Baseline_ipynb%EC%9D%98_%EC%82%AC%EB%B3%B8.ipynb#ch0000015vscode-remote?line=0'>1</a>\u001b[0m model \u001b[39m=\u001b[39m lgb\u001b[39m.\u001b[39;49mtrain(\n\u001b[1;32m      <a href='vscode-notebook-cell://ssh-remote%2B115.85.183.199/opt/ml/input/code/lgbm/%28%EB%AF%B8%EC%85%98_2%29_LGBM_Baseline_ipynb%EC%9D%98_%EC%82%AC%EB%B3%B8.ipynb#ch0000015vscode-remote?line=1'>2</a>\u001b[0m     {\u001b[39m'\u001b[39;49m\u001b[39mobjective\u001b[39;49m\u001b[39m'\u001b[39;49m: \u001b[39m'\u001b[39;49m\u001b[39mbinary\u001b[39;49m\u001b[39m'\u001b[39;49m}, \n\u001b[1;32m      <a href='vscode-notebook-cell://ssh-remote%2B115.85.183.199/opt/ml/input/code/lgbm/%28%EB%AF%B8%EC%85%98_2%29_LGBM_Baseline_ipynb%EC%9D%98_%EC%82%AC%EB%B3%B8.ipynb#ch0000015vscode-remote?line=2'>3</a>\u001b[0m     lgb_train,\n\u001b[1;32m      <a href='vscode-notebook-cell://ssh-remote%2B115.85.183.199/opt/ml/input/code/lgbm/%28%EB%AF%B8%EC%85%98_2%29_LGBM_Baseline_ipynb%EC%9D%98_%EC%82%AC%EB%B3%B8.ipynb#ch0000015vscode-remote?line=3'>4</a>\u001b[0m     valid_sets\u001b[39m=\u001b[39;49m[lgb_train, lgb_test],\n\u001b[1;32m      <a href='vscode-notebook-cell://ssh-remote%2B115.85.183.199/opt/ml/input/code/lgbm/%28%EB%AF%B8%EC%85%98_2%29_LGBM_Baseline_ipynb%EC%9D%98_%EC%82%AC%EB%B3%B8.ipynb#ch0000015vscode-remote?line=4'>5</a>\u001b[0m     verbose_eval\u001b[39m=\u001b[39;49m\u001b[39m100\u001b[39;49m,\n\u001b[1;32m      <a href='vscode-notebook-cell://ssh-remote%2B115.85.183.199/opt/ml/input/code/lgbm/%28%EB%AF%B8%EC%85%98_2%29_LGBM_Baseline_ipynb%EC%9D%98_%EC%82%AC%EB%B3%B8.ipynb#ch0000015vscode-remote?line=5'>6</a>\u001b[0m     num_boost_round\u001b[39m=\u001b[39;49m\u001b[39m500\u001b[39;49m,\n\u001b[1;32m      <a href='vscode-notebook-cell://ssh-remote%2B115.85.183.199/opt/ml/input/code/lgbm/%28%EB%AF%B8%EC%85%98_2%29_LGBM_Baseline_ipynb%EC%9D%98_%EC%82%AC%EB%B3%B8.ipynb#ch0000015vscode-remote?line=6'>7</a>\u001b[0m     early_stopping_rounds\u001b[39m=\u001b[39;49m\u001b[39m100\u001b[39;49m\n\u001b[1;32m      <a href='vscode-notebook-cell://ssh-remote%2B115.85.183.199/opt/ml/input/code/lgbm/%28%EB%AF%B8%EC%85%98_2%29_LGBM_Baseline_ipynb%EC%9D%98_%EC%82%AC%EB%B3%B8.ipynb#ch0000015vscode-remote?line=7'>8</a>\u001b[0m )\n\u001b[1;32m     <a href='vscode-notebook-cell://ssh-remote%2B115.85.183.199/opt/ml/input/code/lgbm/%28%EB%AF%B8%EC%85%98_2%29_LGBM_Baseline_ipynb%EC%9D%98_%EC%82%AC%EB%B3%B8.ipynb#ch0000015vscode-remote?line=9'>10</a>\u001b[0m preds \u001b[39m=\u001b[39m model\u001b[39m.\u001b[39mpredict(test[FEATS])\n\u001b[1;32m     <a href='vscode-notebook-cell://ssh-remote%2B115.85.183.199/opt/ml/input/code/lgbm/%28%EB%AF%B8%EC%85%98_2%29_LGBM_Baseline_ipynb%EC%9D%98_%EC%82%AC%EB%B3%B8.ipynb#ch0000015vscode-remote?line=10'>11</a>\u001b[0m acc \u001b[39m=\u001b[39m accuracy_score(y_test, np\u001b[39m.\u001b[39mwhere(preds \u001b[39m>\u001b[39m\u001b[39m=\u001b[39m \u001b[39m0.5\u001b[39m, \u001b[39m1\u001b[39m, \u001b[39m0\u001b[39m))\n",
            "File \u001b[0;32m/opt/conda/lib/python3.8/site-packages/lightgbm/engine.py:271\u001b[0m, in \u001b[0;36mtrain\u001b[0;34m(params, train_set, num_boost_round, valid_sets, valid_names, fobj, feval, init_model, feature_name, categorical_feature, early_stopping_rounds, evals_result, verbose_eval, learning_rates, keep_training_booster, callbacks)\u001b[0m\n\u001b[1;32m    <a href='file:///opt/conda/lib/python3.8/site-packages/lightgbm/engine.py?line=268'>269</a>\u001b[0m \u001b[39m# construct booster\u001b[39;00m\n\u001b[1;32m    <a href='file:///opt/conda/lib/python3.8/site-packages/lightgbm/engine.py?line=269'>270</a>\u001b[0m \u001b[39mtry\u001b[39;00m:\n\u001b[0;32m--> <a href='file:///opt/conda/lib/python3.8/site-packages/lightgbm/engine.py?line=270'>271</a>\u001b[0m     booster \u001b[39m=\u001b[39m Booster(params\u001b[39m=\u001b[39;49mparams, train_set\u001b[39m=\u001b[39;49mtrain_set)\n\u001b[1;32m    <a href='file:///opt/conda/lib/python3.8/site-packages/lightgbm/engine.py?line=271'>272</a>\u001b[0m     \u001b[39mif\u001b[39;00m is_valid_contain_train:\n\u001b[1;32m    <a href='file:///opt/conda/lib/python3.8/site-packages/lightgbm/engine.py?line=272'>273</a>\u001b[0m         booster\u001b[39m.\u001b[39mset_train_data_name(train_data_name)\n",
            "File \u001b[0;32m/opt/conda/lib/python3.8/site-packages/lightgbm/basic.py:2605\u001b[0m, in \u001b[0;36mBooster.__init__\u001b[0;34m(self, params, train_set, model_file, model_str, silent)\u001b[0m\n\u001b[1;32m   <a href='file:///opt/conda/lib/python3.8/site-packages/lightgbm/basic.py?line=2597'>2598</a>\u001b[0m     \u001b[39mself\u001b[39m\u001b[39m.\u001b[39mset_network(\n\u001b[1;32m   <a href='file:///opt/conda/lib/python3.8/site-packages/lightgbm/basic.py?line=2598'>2599</a>\u001b[0m         machines\u001b[39m=\u001b[39mmachines,\n\u001b[1;32m   <a href='file:///opt/conda/lib/python3.8/site-packages/lightgbm/basic.py?line=2599'>2600</a>\u001b[0m         local_listen_port\u001b[39m=\u001b[39mparams[\u001b[39m\"\u001b[39m\u001b[39mlocal_listen_port\u001b[39m\u001b[39m\"\u001b[39m],\n\u001b[1;32m   <a href='file:///opt/conda/lib/python3.8/site-packages/lightgbm/basic.py?line=2600'>2601</a>\u001b[0m         listen_time_out\u001b[39m=\u001b[39mparams\u001b[39m.\u001b[39mget(\u001b[39m\"\u001b[39m\u001b[39mtime_out\u001b[39m\u001b[39m\"\u001b[39m, \u001b[39m120\u001b[39m),\n\u001b[1;32m   <a href='file:///opt/conda/lib/python3.8/site-packages/lightgbm/basic.py?line=2601'>2602</a>\u001b[0m         num_machines\u001b[39m=\u001b[39mparams[\u001b[39m\"\u001b[39m\u001b[39mnum_machines\u001b[39m\u001b[39m\"\u001b[39m]\n\u001b[1;32m   <a href='file:///opt/conda/lib/python3.8/site-packages/lightgbm/basic.py?line=2602'>2603</a>\u001b[0m     )\n\u001b[1;32m   <a href='file:///opt/conda/lib/python3.8/site-packages/lightgbm/basic.py?line=2603'>2604</a>\u001b[0m \u001b[39m# construct booster object\u001b[39;00m\n\u001b[0;32m-> <a href='file:///opt/conda/lib/python3.8/site-packages/lightgbm/basic.py?line=2604'>2605</a>\u001b[0m train_set\u001b[39m.\u001b[39;49mconstruct()\n\u001b[1;32m   <a href='file:///opt/conda/lib/python3.8/site-packages/lightgbm/basic.py?line=2605'>2606</a>\u001b[0m \u001b[39m# copy the parameters from train_set\u001b[39;00m\n\u001b[1;32m   <a href='file:///opt/conda/lib/python3.8/site-packages/lightgbm/basic.py?line=2606'>2607</a>\u001b[0m params\u001b[39m.\u001b[39mupdate(train_set\u001b[39m.\u001b[39mget_params())\n",
            "File \u001b[0;32m/opt/conda/lib/python3.8/site-packages/lightgbm/basic.py:1815\u001b[0m, in \u001b[0;36mDataset.construct\u001b[0;34m(self)\u001b[0m\n\u001b[1;32m   <a href='file:///opt/conda/lib/python3.8/site-packages/lightgbm/basic.py?line=1811'>1812</a>\u001b[0m             \u001b[39mself\u001b[39m\u001b[39m.\u001b[39m_set_init_score_by_predictor(\u001b[39mself\u001b[39m\u001b[39m.\u001b[39m_predictor, \u001b[39mself\u001b[39m\u001b[39m.\u001b[39mdata, used_indices)\n\u001b[1;32m   <a href='file:///opt/conda/lib/python3.8/site-packages/lightgbm/basic.py?line=1812'>1813</a>\u001b[0m \u001b[39melse\u001b[39;00m:\n\u001b[1;32m   <a href='file:///opt/conda/lib/python3.8/site-packages/lightgbm/basic.py?line=1813'>1814</a>\u001b[0m     \u001b[39m# create train\u001b[39;00m\n\u001b[0;32m-> <a href='file:///opt/conda/lib/python3.8/site-packages/lightgbm/basic.py?line=1814'>1815</a>\u001b[0m     \u001b[39mself\u001b[39;49m\u001b[39m.\u001b[39;49m_lazy_init(\u001b[39mself\u001b[39;49m\u001b[39m.\u001b[39;49mdata, label\u001b[39m=\u001b[39;49m\u001b[39mself\u001b[39;49m\u001b[39m.\u001b[39;49mlabel,\n\u001b[1;32m   <a href='file:///opt/conda/lib/python3.8/site-packages/lightgbm/basic.py?line=1815'>1816</a>\u001b[0m                     weight\u001b[39m=\u001b[39;49m\u001b[39mself\u001b[39;49m\u001b[39m.\u001b[39;49mweight, group\u001b[39m=\u001b[39;49m\u001b[39mself\u001b[39;49m\u001b[39m.\u001b[39;49mgroup,\n\u001b[1;32m   <a href='file:///opt/conda/lib/python3.8/site-packages/lightgbm/basic.py?line=1816'>1817</a>\u001b[0m                     init_score\u001b[39m=\u001b[39;49m\u001b[39mself\u001b[39;49m\u001b[39m.\u001b[39;49minit_score, predictor\u001b[39m=\u001b[39;49m\u001b[39mself\u001b[39;49m\u001b[39m.\u001b[39;49m_predictor,\n\u001b[1;32m   <a href='file:///opt/conda/lib/python3.8/site-packages/lightgbm/basic.py?line=1817'>1818</a>\u001b[0m                     silent\u001b[39m=\u001b[39;49m\u001b[39mself\u001b[39;49m\u001b[39m.\u001b[39;49msilent, feature_name\u001b[39m=\u001b[39;49m\u001b[39mself\u001b[39;49m\u001b[39m.\u001b[39;49mfeature_name,\n\u001b[1;32m   <a href='file:///opt/conda/lib/python3.8/site-packages/lightgbm/basic.py?line=1818'>1819</a>\u001b[0m                     categorical_feature\u001b[39m=\u001b[39;49m\u001b[39mself\u001b[39;49m\u001b[39m.\u001b[39;49mcategorical_feature, params\u001b[39m=\u001b[39;49m\u001b[39mself\u001b[39;49m\u001b[39m.\u001b[39;49mparams)\n\u001b[1;32m   <a href='file:///opt/conda/lib/python3.8/site-packages/lightgbm/basic.py?line=1819'>1820</a>\u001b[0m \u001b[39mif\u001b[39;00m \u001b[39mself\u001b[39m\u001b[39m.\u001b[39mfree_raw_data:\n\u001b[1;32m   <a href='file:///opt/conda/lib/python3.8/site-packages/lightgbm/basic.py?line=1820'>1821</a>\u001b[0m     \u001b[39mself\u001b[39m\u001b[39m.\u001b[39mdata \u001b[39m=\u001b[39m \u001b[39mNone\u001b[39;00m\n",
            "File \u001b[0;32m/opt/conda/lib/python3.8/site-packages/lightgbm/basic.py:1474\u001b[0m, in \u001b[0;36mDataset._lazy_init\u001b[0;34m(self, data, label, reference, weight, group, init_score, predictor, silent, feature_name, categorical_feature, params)\u001b[0m\n\u001b[1;32m   <a href='file:///opt/conda/lib/python3.8/site-packages/lightgbm/basic.py?line=1471'>1472</a>\u001b[0m     \u001b[39mself\u001b[39m\u001b[39m.\u001b[39mpandas_categorical \u001b[39m=\u001b[39m reference\u001b[39m.\u001b[39mpandas_categorical\n\u001b[1;32m   <a href='file:///opt/conda/lib/python3.8/site-packages/lightgbm/basic.py?line=1472'>1473</a>\u001b[0m     categorical_feature \u001b[39m=\u001b[39m reference\u001b[39m.\u001b[39mcategorical_feature\n\u001b[0;32m-> <a href='file:///opt/conda/lib/python3.8/site-packages/lightgbm/basic.py?line=1473'>1474</a>\u001b[0m data, feature_name, categorical_feature, \u001b[39mself\u001b[39m\u001b[39m.\u001b[39mpandas_categorical \u001b[39m=\u001b[39m _data_from_pandas(data,\n\u001b[1;32m   <a href='file:///opt/conda/lib/python3.8/site-packages/lightgbm/basic.py?line=1474'>1475</a>\u001b[0m                                                                                      feature_name,\n\u001b[1;32m   <a href='file:///opt/conda/lib/python3.8/site-packages/lightgbm/basic.py?line=1475'>1476</a>\u001b[0m                                                                                      categorical_feature,\n\u001b[1;32m   <a href='file:///opt/conda/lib/python3.8/site-packages/lightgbm/basic.py?line=1476'>1477</a>\u001b[0m                                                                                      \u001b[39mself\u001b[39;49m\u001b[39m.\u001b[39;49mpandas_categorical)\n\u001b[1;32m   <a href='file:///opt/conda/lib/python3.8/site-packages/lightgbm/basic.py?line=1477'>1478</a>\u001b[0m label \u001b[39m=\u001b[39m _label_from_pandas(label)\n\u001b[1;32m   <a href='file:///opt/conda/lib/python3.8/site-packages/lightgbm/basic.py?line=1479'>1480</a>\u001b[0m \u001b[39m# process for args\u001b[39;00m\n",
            "File \u001b[0;32m/opt/conda/lib/python3.8/site-packages/lightgbm/basic.py:594\u001b[0m, in \u001b[0;36m_data_from_pandas\u001b[0;34m(data, feature_name, categorical_feature, pandas_categorical)\u001b[0m\n\u001b[1;32m    <a href='file:///opt/conda/lib/python3.8/site-packages/lightgbm/basic.py?line=591'>592</a>\u001b[0m \u001b[39mif\u001b[39;00m bad_indices:\n\u001b[1;32m    <a href='file:///opt/conda/lib/python3.8/site-packages/lightgbm/basic.py?line=592'>593</a>\u001b[0m     bad_index_cols_str \u001b[39m=\u001b[39m \u001b[39m'\u001b[39m\u001b[39m, \u001b[39m\u001b[39m'\u001b[39m\u001b[39m.\u001b[39mjoin(data\u001b[39m.\u001b[39mcolumns[bad_indices])\n\u001b[0;32m--> <a href='file:///opt/conda/lib/python3.8/site-packages/lightgbm/basic.py?line=593'>594</a>\u001b[0m     \u001b[39mraise\u001b[39;00m \u001b[39mValueError\u001b[39;00m(\u001b[39m\"\u001b[39m\u001b[39mDataFrame.dtypes for data must be int, float or bool.\u001b[39m\u001b[39m\\n\u001b[39;00m\u001b[39m\"\u001b[39m\n\u001b[1;32m    <a href='file:///opt/conda/lib/python3.8/site-packages/lightgbm/basic.py?line=594'>595</a>\u001b[0m                      \u001b[39m\"\u001b[39m\u001b[39mDid not expect the data types in the following fields: \u001b[39m\u001b[39m\"\u001b[39m\n\u001b[1;32m    <a href='file:///opt/conda/lib/python3.8/site-packages/lightgbm/basic.py?line=595'>596</a>\u001b[0m                      \u001b[39mf\u001b[39m\u001b[39m\"\u001b[39m\u001b[39m{\u001b[39;00mbad_index_cols_str\u001b[39m}\u001b[39;00m\u001b[39m\"\u001b[39m)\n\u001b[1;32m    <a href='file:///opt/conda/lib/python3.8/site-packages/lightgbm/basic.py?line=596'>597</a>\u001b[0m data \u001b[39m=\u001b[39m data\u001b[39m.\u001b[39mvalues\n\u001b[1;32m    <a href='file:///opt/conda/lib/python3.8/site-packages/lightgbm/basic.py?line=597'>598</a>\u001b[0m \u001b[39mif\u001b[39;00m data\u001b[39m.\u001b[39mdtype \u001b[39m!=\u001b[39m np\u001b[39m.\u001b[39mfloat32 \u001b[39mand\u001b[39;00m data\u001b[39m.\u001b[39mdtype \u001b[39m!=\u001b[39m np\u001b[39m.\u001b[39mfloat64:\n",
            "\u001b[0;31mValueError\u001b[0m: DataFrame.dtypes for data must be int, float or bool.\nDid not expect the data types in the following fields: KnowledgeTag, user_correct_answer, user_total_answer, user_acc, test_mean, test_sum, tag_mean, tag_sum, userID"
          ]
        }
      ],
      "source": [
        "model = lgb.train(\n",
        "    {'objective': 'binary'}, \n",
        "    lgb_train,\n",
        "    valid_sets=[lgb_train, lgb_test],\n",
        "    verbose_eval=100,\n",
        "    num_boost_round=500,\n",
        "    early_stopping_rounds=100\n",
        ")\n",
        "\n",
        "preds = model.predict(test[FEATS])\n",
        "acc = accuracy_score(y_test, np.where(preds >= 0.5, 1, 0))\n",
        "auc = roc_auc_score(y_test, preds)\n",
        "\n",
        "print(f'VALID AUC : {auc} ACC : {acc}\\n')"
      ]
    },
    {
      "cell_type": "code",
      "execution_count": 138,
      "metadata": {
        "ExecuteTime": {
          "end_time": "2021-05-24T09:49:29.690738Z",
          "start_time": "2021-05-24T09:49:28.989Z"
        },
        "id": "CKRjM0rxhfQ2"
      },
      "outputs": [],
      "source": [
        "# INSTALL MATPLOTLIB IN ADVANCE\n",
        "# _ = lgb.plot_importance(model)"
      ]
    },
    {
      "cell_type": "markdown",
      "metadata": {
        "id": "8Bsff1ZVhfQ3"
      },
      "source": [
        "## 5. Inference"
      ]
    },
    {
      "cell_type": "code",
      "execution_count": 139,
      "metadata": {
        "ExecuteTime": {
          "end_time": "2021-05-24T09:49:29.691738Z",
          "start_time": "2021-05-24T09:49:28.992Z"
        },
        "id": "N6YEFm8IhfQ3"
      },
      "outputs": [
        {
          "name": "stderr",
          "output_type": "stream",
          "text": [
            "/tmp/ipykernel_24901/10389462.py:73: FutureWarning: Passing 'suffixes' which cause duplicate columns {'solveTime_x'} in the result is deprecated and will raise a MergeError in a future version.\n",
            "  df = pd.merge(df, assessmentItem_mean_solveTime, on=['assessmentItemID'], how=\"left\")\n"
          ]
        }
      ],
      "source": [
        "# LOAD TESTDATA\n",
        "test_csv_file_path = os.path.join(data_dir, 'test_data.csv')\n",
        "test_df = pd.read_csv(test_csv_file_path)\n",
        "\n",
        "# FEATURE ENGINEERING\n",
        "test_df = feature_engineering(test_df)\n",
        "\n",
        "# LEAVE LAST INTERACTION ONLY\n",
        "test_df = test_df[test_df['userID'] != test_df['userID'].shift(-1)]\n",
        "\n",
        "# DROP ANSWERCODE\n",
        "test_df = test_df.drop(['answerCode'], axis=1)"
      ]
    },
    {
      "cell_type": "code",
      "execution_count": 147,
      "metadata": {
        "ExecuteTime": {
          "end_time": "2021-05-24T09:49:29.692739Z",
          "start_time": "2021-05-24T09:49:28.993Z"
        },
        "id": "XnwXJs_shfQ4"
      },
      "outputs": [],
      "source": [
        "# MAKE PREDICTION\n",
        "total_preds = model.predict(test_df[FEATS])"
      ]
    },
    {
      "cell_type": "code",
      "execution_count": 148,
      "metadata": {
        "ExecuteTime": {
          "end_time": "2021-05-24T09:49:29.694736Z",
          "start_time": "2021-05-24T09:49:28.995Z"
        },
        "id": "f8PvohzwhfQ4"
      },
      "outputs": [
        {
          "name": "stdout",
          "output_type": "stream",
          "text": [
            "writing prediction : output/submission_lgbm.csv\n"
          ]
        }
      ],
      "source": [
        "# SAVE OUTPUT\n",
        "output_dir = 'output/'\n",
        "write_path = os.path.join(output_dir, \"submission_lgbm.csv\")\n",
        "if not os.path.exists(output_dir):\n",
        "    os.makedirs(output_dir)\n",
        "with open(write_path, 'w', encoding='utf8') as w:\n",
        "    print(\"writing prediction : {}\".format(write_path))\n",
        "    w.write(\"id,prediction\\n\")\n",
        "    for id, p in enumerate(total_preds):\n",
        "        w.write('{},{}\\n'.format(id,p))"
      ]
    },
    {
      "cell_type": "code",
      "execution_count": null,
      "metadata": {},
      "outputs": [],
      "source": []
    },
    {
      "cell_type": "code",
      "execution_count": null,
      "metadata": {},
      "outputs": [],
      "source": []
    }
  ],
  "metadata": {
    "colab": {
      "collapsed_sections": [],
      "name": "(미션-2) LGBM Baseline.ipynb의 사본",
      "provenance": []
    },
    "kernelspec": {
      "display_name": "Python 3",
      "language": "python",
      "name": "python3"
    },
    "language_info": {
      "codemirror_mode": {
        "name": "ipython",
        "version": 3
      },
      "file_extension": ".py",
      "mimetype": "text/x-python",
      "name": "python",
      "nbconvert_exporter": "python",
      "pygments_lexer": "ipython3",
      "version": "3.8.5"
    },
    "toc": {
      "base_numbering": 1,
      "nav_menu": {},
      "number_sections": false,
      "sideBar": true,
      "skip_h1_title": false,
      "title_cell": "Table of Contents",
      "title_sidebar": "Contents",
      "toc_cell": false,
      "toc_position": {},
      "toc_section_display": true,
      "toc_window_display": true
    }
  },
  "nbformat": 4,
  "nbformat_minor": 0
}
